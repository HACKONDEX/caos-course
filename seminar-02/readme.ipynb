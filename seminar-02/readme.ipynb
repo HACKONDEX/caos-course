{
 "cells": [
  {
   "cell_type": "markdown",
   "metadata": {},
   "source": [
    "C, GCC, Makefile, GDB\n",
    "============================\n",
    "\n",
    "- `C` is a compiled language, its programm file must have `.c` extension\n",
    "- There are many `C` compilers, most popular ones for linux are\n",
    "1) GCC\n",
    "2) Clang\n",
    "- In our course we will use `GCC`\n"
   ]
  },
  {
   "cell_type": "code",
   "execution_count": 34,
   "metadata": {},
   "outputs": [
    {
     "name": "stdout",
     "output_type": "stream",
     "text": [
      "Overwriting hello_world.c\n"
     ]
    }
   ],
   "source": [
    "%%file hello_world.c\n",
    "\n",
    "#include <stdio.h>\n",
    "\n",
    "int main() {\n",
    "    printf(\"Hello world!\\n\");\n",
    "    return 0;\n",
    "}"
   ]
  },
  {
   "cell_type": "markdown",
   "metadata": {},
   "source": [
    "- `-o` option is for giving name to the generated executable. If not used, binary file has name `a.out`."
   ]
  },
  {
   "cell_type": "code",
   "execution_count": 35,
   "metadata": {},
   "outputs": [
    {
     "name": "stdout",
     "output_type": "stream",
     "text": [
      "Hello world!\n"
     ]
    }
   ],
   "source": [
    "!gcc hello_world.c -o hello_world.exe\n",
    "!./hello_world.exe"
   ]
  },
  {
   "cell_type": "markdown",
   "metadata": {},
   "source": [
    "## Compilation\n",
    "\n",
    "- `C` programm compilation consists of __4__ main parts\n",
    "  \n",
    "---\n",
    "1) Preprocessing __:__ comments removal, file inclusion, macros expansion, conditional compilation\n",
    "\n",
    "2) Compilation __:__ convertion into assembly code\n",
    "\n",
    "3) Assembling __:__ convertion into a machine-understandable code\n",
    "   \n",
    "4) Linking __:__ generates an executable file \n",
    "---\n",
    "- [Small article about compilation](https://www.scaler.com/topics/c/compilation-process-in-c/)"
   ]
  },
  {
   "cell_type": "markdown",
   "metadata": {},
   "source": [
    "### Preprocessing example\n",
    "\n",
    "- Comments will be removed as they are not of particular use for the machine.\n",
    "  \n",
    "- File inclusion will cause the entire content of `header` to be added into the source code, replacing the `#include<header>`.\n",
    "  \n",
    "- Compile-time known constants, values or expressions defined using `#define` directive are replaced.\n",
    "  \n",
    "- Replace conditional cmpilation directives `#ifdef`, `#endif` with real codes.\n",
    "-------\n",
    "- `-E` option for generating file right after __pre-process__ step."
   ]
  },
  {
   "cell_type": "code",
   "execution_count": 36,
   "metadata": {},
   "outputs": [
    {
     "name": "stdout",
     "output_type": "stream",
     "text": [
      "Overwriting preprocess_example.h\n"
     ]
    }
   ],
   "source": [
    "%%file preprocess_example.h\n",
    "#define ERROR_CODE -1\n",
    "#define SUCCESS_CODE 0\n",
    "\n",
    "int convert_euros_to_rubles(int* amount) {\n",
    "    if (*amount > 0) {\n",
    "        *amount *= 60;\n",
    "        return SUCCESS_CODE;\n",
    "    }\n",
    "    return ERROR_CODE;\n",
    "}"
   ]
  },
  {
   "cell_type": "code",
   "execution_count": 37,
   "metadata": {},
   "outputs": [
    {
     "name": "stdout",
     "output_type": "stream",
     "text": [
      "Overwriting preprocess_example.c\n"
     ]
    }
   ],
   "source": [
    "%%file preprocess_example.c\n",
    "#include \"preprocess_example.h\"\n",
    "\n",
    "#define OPTION_1 1\n",
    "\n",
    "// Some magic counting\n",
    "int count() {\n",
    "    int amount = 0;\n",
    "    \n",
    "    #ifdef OPTION_1\n",
    "        amount = 33;\n",
    "    #else\n",
    "        amount = 77;\n",
    "    #endif\n",
    "\n",
    "    if (convert_euros_to_rubles(&amount) == 0) {\n",
    "        return amount;\n",
    "    }\n",
    "    return ERROR_CODE;\n",
    "}"
   ]
  },
  {
   "cell_type": "code",
   "execution_count": 38,
   "metadata": {},
   "outputs": [],
   "source": [
    "!gcc -E preprocess_example.c -o preprocess_example_E.c"
   ]
  },
  {
   "cell_type": "markdown",
   "metadata": {},
   "source": [
    "#### Code after preprocess step\n",
    "\n",
    "```c\n",
    "# 0 \"preprocess_example.c\"\n",
    "# 0 \"<built-in>\"\n",
    "# 0 \"<command-line>\"\n",
    "# 1 \"/usr/include/stdc-predef.h\" 1 3 4\n",
    "# 0 \"<command-line>\" 2\n",
    "# 1 \"preprocess_example.c\"\n",
    "# 1 \"preprocess_example.h\" 1\n",
    "\n",
    "\n",
    "\n",
    "int convert_euros_to_rubles(int* amount) {\n",
    "    if (*amount > 0) {\n",
    "        *amount *= 60;\n",
    "        return 0;\n",
    "    }\n",
    "    return -1;\n",
    "}\n",
    "# 2 \"preprocess_example.c\" 2\n",
    "\n",
    "\n",
    "\n",
    "\n",
    "int count() {\n",
    "    int amount = 0;\n",
    "\n",
    "\n",
    "        amount = 33;\n",
    "\n",
    "\n",
    "\n",
    "\n",
    "    if (convert_euros_to_rubles(&amount) == 0) {\n",
    "        return amount;\n",
    "    }\n",
    "    return -1;\n",
    "}\n",
    "```"
   ]
  },
  {
   "cell_type": "markdown",
   "metadata": {},
   "source": [
    "### Compilation\n"
   ]
  },
  {
   "cell_type": "markdown",
   "metadata": {},
   "source": [
    "- Takes the output of the preprocessor and generates assembly language.\n",
    "  \n",
    "- It is an intermediate human readable language, __specific to the target processor__ .\n",
    "  \n",
    "- Assembly file must have `.S` extension.\n",
    "----\n",
    "- `-S` option for generating file right after __compilation__ step."
   ]
  },
  {
   "cell_type": "code",
   "execution_count": 39,
   "metadata": {},
   "outputs": [
    {
     "name": "stdout",
     "output_type": "stream",
     "text": [
      "Overwriting asm_example.c\n"
     ]
    }
   ],
   "source": [
    "%%file asm_example.c\n",
    "#include <limits.h>\n",
    "#include <stdio.h>\n",
    "\n",
    "unsigned int get_remains(unsigned int x, unsigned int y) {\n",
    "    return x % y;\n",
    "}\n",
    "\n",
    "unsigned int sum(unsigned int x, unsigned int y) {\n",
    "    if (x + y < x) {\n",
    "        return UINT_MAX;\n",
    "    }\n",
    "    return x + y;\n",
    "}\n",
    "\n",
    "int main() {\n",
    "    unsigned int x = 13;\n",
    "    unsigned int y = 20;\n",
    "\n",
    "    printf(\"The remainder of %u devided by %u is %u \\n\", x, y, get_remains(x, y));\n",
    "\n",
    "    printf(\"Sum of %u and %u is %u \\n\", x, y, sum(x, y));\n",
    "\n",
    "    printf(\"Sum of %u and 1 is %u which is the UINT_MAX \\n\", UINT_MAX, sum(1, UINT_MAX));\n",
    "\n",
    "    return 0;\n",
    "}"
   ]
  },
  {
   "cell_type": "markdown",
   "metadata": {},
   "source": [
    "- Let's compile and look at first 20 and last 10 lines of assembly code"
   ]
  },
  {
   "cell_type": "code",
   "execution_count": 40,
   "metadata": {},
   "outputs": [
    {
     "name": "stdout",
     "output_type": "stream",
     "text": [
      "\t.file\t\"asm_example.c\"\n",
      "\t.text\n",
      "\t.globl\tget_remains\n",
      "\t.type\tget_remains, @function\n",
      "get_remains:\n",
      ".LFB0:\n",
      "\t.cfi_startproc\n",
      "\tendbr64\n",
      "\tpushq\t%rbp\n",
      "\t.cfi_def_cfa_offset 16\n",
      "\t.cfi_offset 6, -16\n",
      "\tmovq\t%rsp, %rbp\n",
      "\t.cfi_def_cfa_register 6\n",
      "\tmovl\t%edi, -4(%rbp)\n",
      "\tmovl\t%esi, -8(%rbp)\n",
      "\tmovl\t-4(%rbp), %eax\n",
      "\tmovl\t$0, %edx\n",
      "\tdivl\t-8(%rbp)\n",
      "\tmovl\t%edx, %eax\n",
      "\tpopq\t%rbp\n"
     ]
    }
   ],
   "source": [
    "!gcc -S asm_example.c -o asm_example_S.S\n",
    "!head -n 20 asm_example_S.S"
   ]
  },
  {
   "cell_type": "code",
   "execution_count": 41,
   "metadata": {},
   "outputs": [
    {
     "name": "stdout",
     "output_type": "stream",
     "text": [
      "\t.string\t\"GNU\"\n",
      "1:\n",
      "\t.align 8\n",
      "\t.long\t0xc0000002\n",
      "\t.long\t3f - 2f\n",
      "2:\n",
      "\t.long\t0x3\n",
      "3:\n",
      "\t.align 8\n",
      "4:\n"
     ]
    }
   ],
   "source": [
    "!tail -n 10 asm_example_S.S"
   ]
  },
  {
   "cell_type": "markdown",
   "metadata": {},
   "source": [
    "- Let's compile the file generated right after pre-process step."
   ]
  },
  {
   "cell_type": "code",
   "execution_count": 42,
   "metadata": {},
   "outputs": [],
   "source": [
    "!gcc -S -O1 preprocess_example_E.c -o preprocess_example_S.S"
   ]
  },
  {
   "cell_type": "markdown",
   "metadata": {},
   "source": [
    "- `-O1` option stands for getting more compact and readable assembly file.\n",
    "- We get valid assembly programm.\n",
    "\n",
    "```asm\n",
    "\t.file\t\"preprocess_example_E.c\"\n",
    "\t.text\n",
    "\t.globl\tconvert_euros_to_rubles\n",
    "\t.type\tconvert_euros_to_rubles, @function\n",
    "convert_euros_to_rubles:\n",
    ".LFB0:\n",
    "\t.cfi_startproc\n",
    "\tendbr64\n",
    "\tmovl\t(%rdi), %eax\n",
    "\ttestl\t%eax, %eax\n",
    "\tjle\t.L3\n",
    "\timull\t$60, %eax, %eax\n",
    "\tmovl\t%eax, (%rdi)\n",
    "\tmovl\t$0, %eax\n",
    "\tret\n",
    ".L3:\n",
    "\tmovl\t$-1, %eax\n",
    "\tret\n",
    "\t.cfi_endproc\n",
    ".LFE0:\n",
    "\t.size\tconvert_euros_to_rubles, .-convert_euros_to_rubles\n",
    "\t.globl\tcount\n",
    "\t.type\tcount, @function\n",
    "count:\n",
    ".LFB1:\n",
    "\t.cfi_startproc\n",
    "\tendbr64\n",
    "\tmovl\t$1980, %eax\n",
    "\tret\n",
    "\t.cfi_endproc\n",
    ".LFE1:\n",
    "\t.size\tcount, .-count\n",
    "\t.ident\t\"GCC: (Ubuntu 11.2.0-19ubuntu1) 11.2.0\"\n",
    "\t.section\t.note.GNU-stack,\"\",@progbits\n",
    "\t.section\t.note.gnu.property,\"a\"\n",
    "\t.align 8\n",
    "\t.long\t1f - 0f\n",
    "\t.long\t4f - 1f\n",
    "\t.long\t5\n",
    "0:\n",
    "\t.string\t\"GNU\"\n",
    "1:\n",
    "\t.align 8\n",
    "\t.long\t0xc0000002\n",
    "\t.long\t3f - 2f\n",
    "2:\n",
    "\t.long\t0x3\n",
    "3:\n",
    "\t.align 8\n",
    "4:\n",
    "```"
   ]
  },
  {
   "cell_type": "markdown",
   "metadata": {},
   "source": [
    "### Assembling\n",
    "\n",
    "- Just generates from assembly code machine code file.\n",
    "\n",
    "- It is not readable for humans.\n",
    "\n",
    "- `-c` option generates machine code file and stops, __Linking__ step doesn't happen."
   ]
  },
  {
   "cell_type": "code",
   "execution_count": 43,
   "metadata": {},
   "outputs": [
    {
     "name": "stdout",
     "output_type": "stream",
     "text": [
      "\u0000\u0000\u0000\u0000\u0000\u0000\u0000\u0000\u0000\u0000\u0000\u0000\u0000\u0000\u0000\u0001\u0000\u0000\u0000\u0000\u0000\u0000\u0000\u0000\u0000\u0000\u0000\u0000\u0000\u0000\u00009\u0000\u0000\u0000\u0001\u0000\u0000\u00000\u0000\u0000\u0000\u0000\u0000\u0000\u0000\u0000\u0000\u0000\u0000\u0000\u0000\u0000\u0000k\u0000\u0000\u0000\u0000\u0000\u0000\u0000'\u0000\u0000\u0000\u0000\u0000\u0000\u0000\u0000\u0000\u0000\u0000\u0000\u0000\u0000\u0000\u0001\u0000\u0000\u0000\u0000\u0000\u0000\u0000\u0001\u0000\u0000\u0000\u0000\u0000\u0000\u0000B\u0000\u0000\u0000\u0001\u0000\u0000\u0000\u0000\u0000\u0000\u0000\u0000\u0000\u0000\u0000\u0000\u0000\u0000\u0000\u0000\u0000\u0000\u0000�\u0000\u0000\u0000\u0000\u0000\u0000\u0000\u0000\u0000\u0000\u0000\u0000\u0000\u0000\u0000\u0000\u0000\u0000\u0000\u0000\u0000\u0000\u0000\u0001\u0000\u0000\u0000\u0000\u0000\u0000\u0000\u0000\u0000\u0000\u0000\u0000\u0000\u0000\u0000R\u0000\u0000\u0000\u0007\u0000\u0000\u0000\u0002\u0000\u0000\u0000\u0000\u0000\u0000\u0000\u0000\u0000\u0000\u0000\u0000\u0000\u0000\u0000�\u0000\u0000\u0000\u0000\u0000\u0000\u0000 \u0000\u0000\u0000\u0000\u0000\u0000\u0000\u0000\u0000\u0000\u0000\u0000\u0000\u0000\u0000\u0000\u0000\u0000\u0000\u0000\u0000\u0000\u0000\u0000\u0000\u0000\u0000\u0000\u0000j\u0000\u0000\u0000\u0001\u0000\u0000\u0000\u0002\u0000\u0000\u0000\u0000\u0000\u0000\u0000\u0000\u0000\u0000\u0000\u0000\u0000\u0000\u0000�\u0000\u0000\u0000\u0000\u0000\u0000\u00008\u0000\u0000\u0000\u0000\u0000\u0000\u0000\u0000\u0000\u0000\u0000\u0000\u0000\u0000\u0000\u0000\u0000\u0000\u0000\u0000\u0000\u0000\u0000\u0000\u0000\u0000\u0000\u0000\u0000e\u0000\u0000\u0000\u0004\u0000\u0000\u0000@\u0000\u0000\u0000\u0000\u0000\u0000\u0000\u0000\u0000\u0000\u0000\u0000\u0000\u0000\u0000�\u0001\u0000\u0000\u0000\u0000\u0000\u0000\u0018\u0000\u0000\u0000\u0000\u0000\u0000\u0000\u000b\u0000\u0000\u0000\t\u0000\u0000\u0000\u0000\u0000\u0000\u0000\u0000\u0000\u0018\u0000\u0000\u0000\u0000\u0000\u0000\u0000\u0001\u0000\u0000\u0000\u0002\u0000\u0000\u0000\u0000\u0000\u0000\u0000\u0000\u0000\u0000\u0000\u0000\u0000\u0000\u0000\u0000\u0000\u0000\u0000�\u0000\u0000\u0000\u0000\u0000\u0000\u0000�\u0000\u0000\u0000\u0000\u0000\u0000\u0000\f\u0000\u0000\u0000\u0004\u0000\u0000\u0000\u0000\u0000\u0000\u0000\u0000\u0000\u0018\u0000\u0000\u0000\u0000\u0000\u0000\u0000\t\u0000\u0000\u0000\u0003\u0000\u0000\u0000\u0000\u0000\u0000\u0000\u0000\u0000\u0000\u0000\u0000\u0000\u0000\u0000\u0000\u0000\u0000\u0000�\u0001\u0000\u0000\u0000\u0000\u0000\u0000\u0019\u0000\u0000\u0000\u0000\u0000\u0000\u0000\u0000\u0000\u0000\u0000\u0000\u0000\u0000\u0000\u0001\u0000\u0000\u0000\u0000\u0000\u0000\u0000\u0000\u0000\u0000\u0000\u0000\u0000\u0000\u0000\u0011\u0000\u0000\u0000\u0003\u0000\u0000\u0000\u0000\u0000\u0000\u0000\u0000\u0000\u0000\u0000\u0000\u0000\u0000\u0000\u0000\u0000\u0000\u0000�\u0001\u0000\u0000\u0000\u0000\u0000\u0000t\u0000\u0000\u0000\u0000\u0000\u0000\u0000\u0000\u0000\u0000\u0000\u0000\u0000\u0000\u0000\u0001\u0000\u0000\u0000\u0000\u0000\u0000\u0000\u0000\u0000\u0000\u0000\u0000\u0000\u0000\u0000\u0000\u0000\u0000\u0000\u0000\u0000\u0000\u000b\u0000\u0000\u0000\u0001\u0000\u0000\u0000\u0000\u0000\u0000\u0000\u0000\u0000\u0018\u0000\u0000\u0000\u0000\u0000\u0000\u0000&\u0000\u0000\u0000\u0001\u0000\u0000\u0000\u0003\u0000\u0000\u0000\u0000\u0000\u0000\u0000\u0000\u0000\u0000\u0000\u0000\u0000\u0000\u0000^\u0000\u0000\u0000\u0000\u0000\u0000\u0000\u0000\u0000\u0000\u0000\u0000\u0000\u0000\u0000\u0000\u0000\u0000\u0000\u0000\u0000\u0000\u0000\u0001\u0000\u0000\u0000\u0000\u0000\u0000\u0000\u0000\u0000\u0000\u0000\u0000\u0000\u0000\u0000,\u0000\u0000\u0000\u0000\u0000\u0003\u0000\u0000\u0000\u0000\u0000\u0000\u0000\u0000\u0000\u0000\u0000\u0000\u0000\u0000\u0000^\u0000\u0000\u0000\u0000\u0000\u0000\u0000\u0000\u0000\u0000\u0000\u0000\u0000\u0000\u0000\u0000\u0000\u0000\u0000\u0000\u0000\u0000\u0000\u0001\u0000\u0000\u0000\u0000\u0000\u0000\u0000\u0000\u0000\u0000\u0000\u0000\u0000\u0000\u00001\u0000\u0000\u0000\u0001\u0000\u0000\u0000\u0002\u0000\u0000\u0000\u0000\u0000\u0000\u0000\u0000\u0000\u0000\u0000\u0000\u0000\u0000\u0000^\u0000\u0000\u0000\u0000\u0000\u0000\u0000"
     ]
    }
   ],
   "source": [
    "!gcc -c hello_world.c -o hello_world.obj\n",
    "!cat hello_world.obj"
   ]
  },
  {
   "cell_type": "markdown",
   "metadata": {},
   "source": [
    "- `hello_world.obj` file is a machine code file, it is not readable in raw format as other files\n",
    "\n",
    "- You can use `readelf -WaS` terminal command to get better picture."
   ]
  },
  {
   "cell_type": "code",
   "execution_count": 44,
   "metadata": {},
   "outputs": [
    {
     "name": "stdout",
     "output_type": "stream",
     "text": [
      "ELF Header:\n",
      "  Magic:   7f 45 4c 46 02 01 01 00 00 00 00 00 00 00 00 00 \n",
      "  Class:                             ELF64\n",
      "  Data:                              2's complement, little endian\n",
      "  Version:                           1 (current)\n",
      "  OS/ABI:                            UNIX - System V\n",
      "  ABI Version:                       0\n",
      "  Type:                              REL (Relocatable file)\n",
      "  Machine:                           Advanced Micro Devices X86-64\n",
      "  Version:                           0x1\n",
      "  Entry point address:               0x0\n",
      "  Start of program headers:          0 (bytes into file)\n",
      "  Start of section headers:          608 (bytes into file)\n",
      "  Flags:                             0x0\n",
      "  Size of this header:               64 (bytes)\n",
      "  Size of program headers:           0 (bytes)\n",
      "  Number of program headers:         0\n",
      "  Size of section headers:           64 (bytes)\n",
      "  Number of section headers:         14\n",
      "  Section header string table index: 13\n",
      "\n",
      "Section Headers:\n",
      "  [Nr] Name              Type            Address          Off    Size   ES Flg Lk Inf Al\n",
      "  [ 0]                   NULL            0000000000000000 000000 000000 00      0   0  0\n",
      "  [ 1] .text             PROGBITS        0000000000000000 000040 00001e 00  AX  0   0  1\n",
      "  [ 2] .rela.text        RELA            0000000000000000 0001a0 000030 18   I 11   1  8\n",
      "  [ 3] .data             PROGBITS        0000000000000000 00005e 000000 00  WA  0   0  1\n",
      "  [ 4] .bss              NOBITS          0000000000000000 00005e 000000 00  WA  0   0  1\n",
      "  [ 5] .rodata           PROGBITS        0000000000000000 00005e 00000d 00   A  0   0  1\n",
      "  [ 6] .comment          PROGBITS        0000000000000000 00006b 000027 01  MS  0   0  1\n",
      "  [ 7] .note.GNU-stack   PROGBITS        0000000000000000 000092 000000 00      0   0  1\n",
      "  [ 8] .note.gnu.property NOTE            0000000000000000 000098 000020 00   A  0   0  8\n",
      "  [ 9] .eh_frame         PROGBITS        0000000000000000 0000b8 000038 00   A  0   0  8\n",
      "  [10] .rela.eh_frame    RELA            0000000000000000 0001d0 000018 18   I 11   9  8\n",
      "  [11] .symtab           SYMTAB          0000000000000000 0000f0 000090 18     12   4  8\n",
      "  [12] .strtab           STRTAB          0000000000000000 000180 000019 00      0   0  1\n",
      "  [13] .shstrtab         STRTAB          0000000000000000 0001e8 000074 00      0   0  1\n",
      "Key to Flags:\n",
      "  W (write), A (alloc), X (execute), M (merge), S (strings), I (info),\n",
      "  L (link order), O (extra OS processing required), G (group), T (TLS),\n",
      "  C (compressed), x (unknown), o (OS specific), E (exclude),\n",
      "  D (mbind), l (large), p (processor specific)\n",
      "\n",
      "There are no section groups in this file.\n",
      "\n",
      "There are no program headers in this file.\n",
      "\n",
      "There is no dynamic section in this file.\n",
      "\n",
      "Relocation section '.rela.text' at offset 0x1a0 contains 2 entries:\n",
      "    Offset             Info             Type               Symbol's Value  Symbol's Name + Addend\n",
      "000000000000000b  0000000300000002 R_X86_64_PC32          0000000000000000 .rodata - 4\n",
      "0000000000000013  0000000500000004 R_X86_64_PLT32         0000000000000000 puts - 4\n",
      "\n",
      "Relocation section '.rela.eh_frame' at offset 0x1d0 contains 1 entry:\n",
      "    Offset             Info             Type               Symbol's Value  Symbol's Name + Addend\n",
      "0000000000000020  0000000200000002 R_X86_64_PC32          0000000000000000 .text + 0\n",
      "No processor specific unwind information to decode\n",
      "\n",
      "Symbol table '.symtab' contains 6 entries:\n",
      "   Num:    Value          Size Type    Bind   Vis      Ndx Name\n",
      "     0: 0000000000000000     0 NOTYPE  LOCAL  DEFAULT  UND \n",
      "     1: 0000000000000000     0 FILE    LOCAL  DEFAULT  ABS hello_world.c\n",
      "     2: 0000000000000000     0 SECTION LOCAL  DEFAULT    1 .text\n",
      "     3: 0000000000000000     0 SECTION LOCAL  DEFAULT    5 .rodata\n",
      "     4: 0000000000000000    30 FUNC    GLOBAL DEFAULT    1 main\n",
      "     5: 0000000000000000     0 NOTYPE  GLOBAL DEFAULT  UND puts\n",
      "\n",
      "No version information found in this file.\n",
      "\n",
      "Displaying notes found in: .note.gnu.property\n",
      "  Owner                Data size \tDescription\n",
      "  GNU                  0x00000010\tNT_GNU_PROPERTY_TYPE_0\t      Properties: x86 feature: IBT, SHSTK\n"
     ]
    }
   ],
   "source": [
    "!readelf -WaS hello_world.obj"
   ]
  },
  {
   "cell_type": "markdown",
   "metadata": {},
   "source": []
  }
 ],
 "metadata": {
  "kernelspec": {
   "display_name": "Python 3.10.4 64-bit",
   "language": "python",
   "name": "python3"
  },
  "language_info": {
   "codemirror_mode": {
    "name": "ipython",
    "version": 3
   },
   "file_extension": ".py",
   "mimetype": "text/x-python",
   "name": "python",
   "nbconvert_exporter": "python",
   "pygments_lexer": "ipython3",
   "version": "3.10.4"
  },
  "vscode": {
   "interpreter": {
    "hash": "916dbcbb3f70747c44a77c7bcd40155683ae19c65e1c03b4aa3499c5328201f1"
   }
  }
 },
 "nbformat": 4,
 "nbformat_minor": 2
}
